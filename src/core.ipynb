{
 "cells": [
  {
   "cell_type": "markdown",
   "metadata": {},
   "source": [
    "This program is intended to get latest trending projects on github -- their names, aims and locations."
   ]
  },
  {
   "cell_type": "code",
   "execution_count": 12,
   "metadata": {},
   "outputs": [],
   "source": [
    "import re\n",
    "import csv\n",
    "import requests\n",
    "from lxml import etree"
   ]
  },
  {
   "cell_type": "code",
   "execution_count": 13,
   "metadata": {},
   "outputs": [],
   "source": [
    "url = 'https://github.com/trending'"
   ]
  },
  {
   "cell_type": "code",
   "execution_count": 14,
   "metadata": {},
   "outputs": [],
   "source": [
    "headers = {'content-type':'application/json'}"
   ]
  },
  {
   "cell_type": "code",
   "execution_count": 15,
   "metadata": {},
   "outputs": [
    {
     "data": {
      "text/plain": [
       "200"
      ]
     },
     "execution_count": 15,
     "metadata": {},
     "output_type": "execute_result"
    }
   ],
   "source": [
    "r = requests.get(url, headers=headers)\n",
    "r.status_code"
   ]
  },
  {
   "cell_type": "code",
   "execution_count": 16,
   "metadata": {},
   "outputs": [],
   "source": [
    "html = etree.HTML(r.text)\n",
    "result = etree.tostring(html)"
   ]
  },
  {
   "cell_type": "code",
   "execution_count": 18,
   "metadata": {},
   "outputs": [
    {
     "data": {
      "text/plain": [
       "[{'author': 'rasbt',\n",
       "  'description': 'A collection of various deep learning architectures, models, and tips',\n",
       "  'link': 'https://github.com/rasbt/deeplearning-models',\n",
       "  'project': 'deeplearning-models',\n",
       "  'star': '856'},\n",
       " {'author': 'TrillCyborg',\n",
       "  'description': 'OneFraction App',\n",
       "  'link': 'https://github.com/TrillCyborg/onefraction',\n",
       "  'project': 'onefraction',\n",
       "  'star': '827'},\n",
       " {'author': 'jackfrued',\n",
       "  'description': 'Python - 100天从新手到大师',\n",
       "  'link': 'https://github.com/jackfrued/Python-100-Days',\n",
       "  'project': 'Python-100-Days',\n",
       "  'star': '305'},\n",
       " {'author': 'jlevy',\n",
       "  'description': 'Master the command line, in one page',\n",
       "  'link': 'https://github.com/jlevy/the-art-of-command-line',\n",
       "  'project': 'the-art-of-command-line',\n",
       "  'star': '331'},\n",
       " {'author': 'imhuster',\n",
       "  'description': '中国大陆 31 个省份1978 年至 2019 年一千多万工商企业注册信息，包含企业名称、注册地址、统一社会信用代码、地区、注册日期、经营范围、法人代表、注册资金、企业类型等详细资料。This repository is an dataset of over 10,000,000 enterprise registration data of 31 provinces in Chinese mainland from 1978 to 2019.【工商大数据】、【企业信息】、【enterprise registration data】。',\n",
       "  'link': 'https://github.com/imhuster/Enterprise-Registration-Data-of-Chinese-Mainland',\n",
       "  'project': 'Enterprise-Registration-Data-of-Chinese-Mainland',\n",
       "  'star': '242'},\n",
       " {'author': 'sfyc23',\n",
       "  'description': '每日自动给女朋友发微信暖心话。',\n",
       "  'link': 'https://github.com/sfyc23/EverydayWechat',\n",
       "  'project': 'EverydayWechat',\n",
       "  'star': '208'},\n",
       " {'author': 'duke7553',\n",
       "  'description': '\"More than just a rewrite of Windows Explorer\"',\n",
       "  'link': 'https://github.com/duke7553/files-uwp',\n",
       "  'project': 'files-uwp',\n",
       "  'star': '212'},\n",
       " {'author': 'dylanaraps',\n",
       "  'description': 'A collection of pure bash alternatives to external processes.',\n",
       "  'link': 'https://github.com/dylanaraps/pure-bash-bible',\n",
       "  'project': 'pure-bash-bible',\n",
       "  'star': '187'},\n",
       " {'author': 'google-research',\n",
       "  'description': '',\n",
       "  'link': 'https://github.com/google-research/football',\n",
       "  'project': 'football',\n",
       "  'star': '177'},\n",
       " {'author': 'pipe-dream',\n",
       "  'description': 'Create Laravel projects really fast',\n",
       "  'link': 'https://github.com/pipe-dream/laravel',\n",
       "  'project': 'laravel',\n",
       "  'star': '167'},\n",
       " {'author': 'microsoft',\n",
       "  'description': 'The new Windows Terminal, and the original Windows console host -- all in the same place!',\n",
       "  'link': 'https://github.com/microsoft/terminal',\n",
       "  'project': 'terminal',\n",
       "  'star': '151'},\n",
       " {'author': 'CarGuo',\n",
       "  'description': 'Flutter完整开发实战详解系列，提供在线预览和pdf下载，本系列将完整讲述：如何快速从 0 开发一个完整的 Flutter APP，配套高完成度 Flutter 开源项目 GSYGithubAppFlutter ，同时会提供一些Flutter的开发细节技巧，之后深入源码和实战为你全面解析 Flutter 。',\n",
       "  'link': 'https://github.com/CarGuo/GSYFlutterBook',\n",
       "  'project': 'GSYFlutterBook',\n",
       "  'star': '151'},\n",
       " {'author': 'MisterBooo',\n",
       "  'description': 'Demonstrate all the questions on LeetCode in the form of animation.（用动画的形式呈现解LeetCode题目的思路）',\n",
       "  'link': 'https://github.com/MisterBooo/LeetCodeAnimation',\n",
       "  'project': 'LeetCodeAnimation',\n",
       "  'star': '142'},\n",
       " {'author': 'Snailclimb',\n",
       "  'description': '【Java学习+面试指南】 一份涵盖大部分Java程序员所需要掌握的核心知识。',\n",
       "  'link': 'https://github.com/Snailclimb/JavaGuide',\n",
       "  'project': 'JavaGuide',\n",
       "  'star': '132'},\n",
       " {'author': 'dokun1',\n",
       "  'description': 'A HTML DSL library for Swift',\n",
       "  'link': 'https://github.com/dokun1/Vaux',\n",
       "  'project': 'Vaux',\n",
       "  'star': '138'},\n",
       " {'author': 'CyC2018',\n",
       "  'description': 'Basic Knowledge of Technical Interview（技术面试必备基础知识、Leetcode 题解、后端面试、Java 面试、春招、秋招、操作系统、计算机网络、系统设计）',\n",
       "  'link': 'https://github.com/CyC2018/CS-Notes',\n",
       "  'project': 'CS-Notes',\n",
       "  'star': '119'},\n",
       " {'author': 'entropic-dev',\n",
       "  'description': 'a package registry for anything, but mostly javascript \\U0001f99d \\U0001f99d \\U0001f99d',\n",
       "  'link': 'https://github.com/entropic-dev/entropic',\n",
       "  'project': 'entropic',\n",
       "  'star': '114'},\n",
       " {'author': 'mathieudutour',\n",
       "  'description': 'Switch from Medium to your own blog in a few minutes',\n",
       "  'link': 'https://github.com/mathieudutour/medium-to-own-blog',\n",
       "  'project': 'medium-to-own-blog',\n",
       "  'star': '109'},\n",
       " {'author': 'TheAlgorithms',\n",
       "  'description': 'All Algorithms implemented in Python',\n",
       "  'link': 'https://github.com/TheAlgorithms/Python',\n",
       "  'project': 'Python',\n",
       "  'star': '91'},\n",
       " {'author': '0voice',\n",
       "  'description': '2019年最新总结，从程序员到CTO，从专业走向卓越，分享大牛企业内部pdf与PPT',\n",
       "  'link': 'https://github.com/0voice/from_coder_to_expert',\n",
       "  'project': 'from_coder_to_expert',\n",
       "  'star': '89'},\n",
       " {'author': 'v2ray',\n",
       "  'description': 'A platform for building proxies to bypass network restrictions.',\n",
       "  'link': 'https://github.com/v2ray/v2ray-core',\n",
       "  'project': 'v2ray-core',\n",
       "  'star': '85'},\n",
       " {'author': 'github',\n",
       "  'description': 'Parsing, analyzing, and comparing source code across many languages',\n",
       "  'link': 'https://github.com/github/semantic',\n",
       "  'project': 'semantic',\n",
       "  'star': '94'},\n",
       " {'author': 'unixzii',\n",
       "  'description': 'A 2048 game writing with SwiftUI.',\n",
       "  'link': 'https://github.com/unixzii/SwiftUI-2048',\n",
       "  'project': 'SwiftUI-2048',\n",
       "  'star': '90'},\n",
       " {'author': 'system-ui',\n",
       "  'description': 'Build consistent, themeable React UIs based on design system constraints and design tokens',\n",
       "  'link': 'https://github.com/system-ui/theme-ui',\n",
       "  'project': 'theme-ui',\n",
       "  'star': '89'},\n",
       " {'author': 'sveltejs',\n",
       "  'description': 'Cybernetically enhanced web apps',\n",
       "  'link': 'https://github.com/sveltejs/svelte',\n",
       "  'project': 'svelte',\n",
       "  'star': '87'}]"
      ]
     },
     "execution_count": 18,
     "metadata": {},
     "output_type": "execute_result"
    }
   ],
   "source": [
    "projects_num = len(html.xpath('//ol[@class=\"repo-list\"]//li//h3/a/@href')) # 根据项目名称数目判断项目总数\n",
    "projects = []\n",
    "for i in range(projects_num):\n",
    "    name_path = '//ol[@class=\"repo-list\"]//li[{}]//h3/a/@href'.format(i+1)\n",
    "    raw_name = html.xpath(name_path)\n",
    "    refined_name = raw_name[0]   # TODO 不是很易读，隔了几天就不知道是什么意思了，需要拿到原始材料才能想到\n",
    "    _, author, project = refined_name.split('/')\n",
    "    link = 'https://github.com/{author}/{project}'.format(author=author, project=project)\n",
    "    \n",
    "    raw_description = html.xpath('//ol[@class=\"repo-list\"]//li[{}]//p//text()'.format(i+1))\n",
    "    refined_description = max(raw_description, key=len) if raw_description else ''\n",
    "    \n",
    "    star_path = '//ol[@class=\"repo-list\"]//li[{}]//span[@class=\"d-inline-block float-sm-right\"]//text()'.format(i+1)\n",
    "    raw_star = max(html.xpath(star_path), key=len)\n",
    "    refined_star = re.search('(\\d+)\\w+', raw_star.replace(',','')).group(0)\n",
    "    \n",
    "\n",
    "    projects.append({'author':author, 'project':project, 'description':refined_description.strip(), 'star':refined_star, 'link':link})\n",
    "projects"
   ]
  },
  {
   "cell_type": "code",
   "execution_count": 11,
   "metadata": {},
   "outputs": [],
   "source": [
    "with open('projects.csv', 'w') as csv_file:\n",
    "    writer = csv.DictWriter(csv_file, fieldnames=['author', 'project', 'description', 'star', 'link'])\n",
    "    writer.writeheader()\n",
    "    for project in projects:\n",
    "        writer.writerow(project)"
   ]
  },
  {
   "cell_type": "markdown",
   "metadata": {},
   "source": [
    "# TODO get stars, links"
   ]
  },
  {
   "cell_type": "code",
   "execution_count": null,
   "metadata": {},
   "outputs": [],
   "source": []
  }
 ],
 "metadata": {
  "kernelspec": {
   "display_name": "Python 3",
   "language": "python",
   "name": "python3"
  },
  "language_info": {
   "codemirror_mode": {
    "name": "ipython",
    "version": 3
   },
   "file_extension": ".py",
   "mimetype": "text/x-python",
   "name": "python",
   "nbconvert_exporter": "python",
   "pygments_lexer": "ipython3",
   "version": "3.4.3"
  }
 },
 "nbformat": 4,
 "nbformat_minor": 2
}
