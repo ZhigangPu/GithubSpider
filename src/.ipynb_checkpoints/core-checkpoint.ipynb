{
 "cells": [
  {
   "cell_type": "markdown",
   "metadata": {},
   "source": [
    "This program is intended to get latest trending projects on github -- their names, aims and locations."
   ]
  },
  {
   "cell_type": "code",
   "execution_count": 2,
   "metadata": {},
   "outputs": [],
   "source": [
    "import re\n",
    "import csv\n",
    "import requests\n",
    "from lxml import etree"
   ]
  },
  {
   "cell_type": "code",
   "execution_count": 3,
   "metadata": {},
   "outputs": [],
   "source": [
    "url = 'https://github.com/trending'"
   ]
  },
  {
   "cell_type": "code",
   "execution_count": 4,
   "metadata": {},
   "outputs": [],
   "source": [
    "headers = {'content-type':'application/json'}"
   ]
  },
  {
   "cell_type": "code",
   "execution_count": 5,
   "metadata": {},
   "outputs": [
    {
     "data": {
      "text/plain": [
       "200"
      ]
     },
     "execution_count": 5,
     "metadata": {},
     "output_type": "execute_result"
    }
   ],
   "source": [
    "r = requests.get(url, headers=headers)\n",
    "r.status_code"
   ]
  },
  {
   "cell_type": "code",
   "execution_count": 6,
   "metadata": {},
   "outputs": [],
   "source": [
    "html = etree.HTML(r.text)\n",
    "result = etree.tostring(html)"
   ]
  },
  {
   "cell_type": "code",
   "execution_count": 8,
   "metadata": {
    "collapsed": true
   },
   "outputs": [
    {
     "data": {
      "text/plain": [
       "[{'author': 'jlevy',\n",
       "  'description': 'Master the command line, in one page',\n",
       "  'project': 'the-art-of-command-line',\n",
       "  'star': '1262'},\n",
       " {'author': 'jackfrued',\n",
       "  'description': 'Python - 100天从新手到大师',\n",
       "  'project': 'Python-100-Days',\n",
       "  'star': '434'},\n",
       " {'author': 'imhuster',\n",
       "  'description': '中国大陆 31 个省份1978 年至 2019 年一千多万工商企业注册信息，包含企业名称、注册地址、统一社会信用代码、地区、注册日期、经营范围、法人代表、注册资金、企业类型等详细资料。This repository is an dataset of over 10,000,000 enterprise registration data of 31 provinces in Chinese mainland from 1978 to 2019.【工商大数据】、【企业信息】、【enterprise registration data】。',\n",
       "  'project': 'Enterprise-Registration-Data-of-Chinese-Mainland',\n",
       "  'star': '317'},\n",
       " {'author': 'entropic-dev',\n",
       "  'description': 'a package registry for anything, but mostly javascript',\n",
       "  'project': 'entropic',\n",
       "  'star': '369'},\n",
       " {'author': 'github',\n",
       "  'description': 'Parsing, analyzing, and comparing source code across many languages',\n",
       "  'project': 'semantic',\n",
       "  'star': '320'},\n",
       " {'author': 'algorithm-visualizer',\n",
       "  'description': 'Interactive Online Platform that Visualizes Algorithms from Code',\n",
       "  'project': 'algorithm-visualizer',\n",
       "  'star': '296'},\n",
       " {'author': 'Snailclimb',\n",
       "  'description': '【Java学习+面试指南】 一份涵盖大部分Java程序员所需要掌握的核心知识。',\n",
       "  'project': 'JavaGuide',\n",
       "  'star': '213'},\n",
       " {'author': 'MisterBooo',\n",
       "  'description': 'Demonstrate all the questions on LeetCode in the form of animation.（用动画的形式呈现解LeetCode题目的思路）',\n",
       "  'project': 'LeetCodeAnimation',\n",
       "  'star': '223'},\n",
       " {'author': 'microsoft',\n",
       "  'description': 'The new Windows Terminal, and the original Windows console host -- all in the same place!',\n",
       "  'project': 'terminal',\n",
       "  'star': '224'},\n",
       " {'author': 'metafizzy',\n",
       "  'description': 'Flat, round, designer-friendly pseudo-3D engine for canvas & SVG',\n",
       "  'project': 'zdog',\n",
       "  'star': '229'},\n",
       " {'author': 'akveo',\n",
       "  'description': 'Angular 8 UI Library based on Eva Design System',\n",
       "  'project': 'nebular',\n",
       "  'star': '215'},\n",
       " {'author': 'v2ray',\n",
       "  'description': 'A platform for building proxies to bypass network restrictions.',\n",
       "  'project': 'v2ray-core',\n",
       "  'star': '198'},\n",
       " {'author': 'robbyrussell',\n",
       "  'description': 'A delightful community-driven (with 1,300+ contributors) framework for managing your zsh configuration. Includes 200+ optional plugins (rails, git, OSX, hub, capistrano, brew, ant, php, python, etc), over 140 themes to spice up your morning, and an auto-update tool so that makes it easy to keep up with the latest updates from the community.',\n",
       "  'project': 'oh-my-zsh',\n",
       "  'star': '208'},\n",
       " {'author': 'CyC2018',\n",
       "  'description': 'Basic Knowledge of Technical Interview（技术面试必备基础知识、Leetcode 题解、后端面试、Java 面试、春招、秋招、操作系统、计算机网络、系统设计）',\n",
       "  'project': 'CS-Notes',\n",
       "  'star': '174'},\n",
       " {'author': 'lukemelas',\n",
       "  'description': 'A PyTorch implementation of EfficientNet',\n",
       "  'project': 'EfficientNet-PyTorch',\n",
       "  'star': '190'},\n",
       " {'author': 'quantumblacklabs',\n",
       "  'description': 'A Python library for building robust production-ready data and analytics pipelines',\n",
       "  'project': 'kedro',\n",
       "  'star': '183'},\n",
       " {'author': 'flutter',\n",
       "  'description': 'Flutter makes it easy and fast to build beautiful mobile apps.',\n",
       "  'project': 'flutter',\n",
       "  'star': '170'},\n",
       " {'author': 'calebwin',\n",
       "  'description': 'a language for programming GPUs',\n",
       "  'project': 'emu',\n",
       "  'star': '174'},\n",
       " {'author': 'TheAlgorithms',\n",
       "  'description': 'All Algorithms implemented in Python',\n",
       "  'project': 'Python',\n",
       "  'star': '150'},\n",
       " {'author': 'mathieudutour',\n",
       "  'description': 'Switch from Medium to your own blog in a few minutes',\n",
       "  'project': 'medium-to-own-blog',\n",
       "  'star': '166'},\n",
       " {'author': 'sindresorhus',\n",
       "  'description': 'Awesome lists about all kinds of interesting topics',\n",
       "  'project': 'awesome',\n",
       "  'star': '148'},\n",
       " {'author': 'vuejs',\n",
       "  'description': 'Vue.js is a progressive, incrementally-adoptable JavaScript framework for building UI on the web.',\n",
       "  'project': 'vue',\n",
       "  'star': '143'},\n",
       " {'author': 'halo-dev',\n",
       "  'description': '✍ Halo 一款现代化的个人独立博客系统',\n",
       "  'project': 'halo',\n",
       "  'star': '144'},\n",
       " {'author': 'Jinxiansen',\n",
       "  'description': 'This is some of the official examples of the SwiftUI layout framework for the full platform of the apple released by WWDC2019 today. I hope to help you understand and learn this new layout framework!',\n",
       "  'project': 'SwiftUI',\n",
       "  'star': '148'},\n",
       " {'author': 'shapr',\n",
       "  'description': 'keyboard layout that changes by markov frequency',\n",
       "  'project': 'markovkeyboard',\n",
       "  'star': '148'}]"
      ]
     },
     "execution_count": 8,
     "metadata": {},
     "output_type": "execute_result"
    }
   ],
   "source": [
    "projects_num = len(html.xpath('//ol[@class=\"repo-list\"]//li//h3/a/@href')) # 根据项目名称数目判断项目总数\n",
    "projects = []\n",
    "for i in range(projects_num):\n",
    "    name_path = '//ol[@class=\"repo-list\"]//li[{}]//h3/a/@href'.format(i+1)\n",
    "    raw_name = html.xpath(name_path)\n",
    "    refined_name = raw_name[0]   # TODO 不是很易读，隔了几天就不知道是什么意思了，需要拿到原始材料才能想到\n",
    "    _, author, project = refined_name.split('/')\n",
    "    link = 'https://github.com/{author}/{project}'.format(author=author, project=project)\n",
    "    \n",
    "    raw_description = html.xpath('//ol[@class=\"repo-list\"]//li[{}]//p//text()'.format(i+1))\n",
    "    refined_description = max(raw_description, key=len)\n",
    "    \n",
    "    star_path = '//ol[@class=\"repo-list\"]//li[{}]//span[@class=\"d-inline-block float-sm-right\"]//text()'.format(i+1)\n",
    "    raw_star = max(html.xpath(star_path), key=len)\n",
    "    refined_star = re.search('(\\d+)\\w+', raw_star.replace(',','')).group(0)\n",
    "    \n",
    "\n",
    "    projects.append({'author':author, 'project':project, 'description':refined_description.strip(), 'star':refined_star})\n",
    "projects"
   ]
  },
  {
   "cell_type": "code",
   "execution_count": 9,
   "metadata": {},
   "outputs": [],
   "source": [
    "with open('projects.csv', 'w') as csv_file:\n",
    "    writer = csv.DictWriter(csv_file, fieldnames=['author', 'project', 'description', 'star'])\n",
    "    writer.writeheader()\n",
    "    for project in projects:\n",
    "        writer.writerow(project)"
   ]
  },
  {
   "cell_type": "markdown",
   "metadata": {},
   "source": [
    "# TODO get stars, links"
   ]
  },
  {
   "cell_type": "code",
   "execution_count": null,
   "metadata": {},
   "outputs": [],
   "source": []
  }
 ],
 "metadata": {
  "kernelspec": {
   "display_name": "Python 3",
   "language": "python",
   "name": "python3"
  },
  "language_info": {
   "codemirror_mode": {
    "name": "ipython",
    "version": 3
   },
   "file_extension": ".py",
   "mimetype": "text/x-python",
   "name": "python",
   "nbconvert_exporter": "python",
   "pygments_lexer": "ipython3",
   "version": "3.4.3"
  }
 },
 "nbformat": 4,
 "nbformat_minor": 2
}
